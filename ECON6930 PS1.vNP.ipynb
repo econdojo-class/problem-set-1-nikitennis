{
 "cells": [
  {
   "cell_type": "markdown",
   "metadata": {},
   "source": [
    "## Problem Set 1: Basic Python and LaTeX Practice\n",
    "\n",
    "### Overview\n",
    "In this assignment, you will practice basic Python programming and document your work using LaTeX. The assignment is split into two parts:\n",
    "1. Solve a series of Python tasks.\n",
    "2. Document your solutions and explanations in a LaTeX report.\n",
    "\n",
    "You will both complete this Python script (`ps1.ipynb`) and submit a LaTeX report (`ps1.tex` and `ps1.pdf`)."
   ]
  },
  {
   "cell_type": "markdown",
   "metadata": {},
   "source": [
    "### Task 1: Basic Data Types\n",
    "- **Problem**:\n",
    "  1. Create two variables: `x = 5` (integer) and `y = 2.5` (float).\n",
    "  2. Perform the following operations and print the result:\n",
    "     - Add `x` and `y`.\n",
    "     - Subtract `x` from `y`.\n",
    "     - Multiply `x` by `y`.\n",
    "     - Raise `x` to the power of 2.\n",
    "     - Use floor division (`//`) to divide `x` by 2."
   ]
  },
  {
   "cell_type": "code",
   "execution_count": 16,
   "metadata": {},
   "outputs": [
    {
     "name": "stdout",
     "output_type": "stream",
     "text": [
      "7.5\n",
      "-2.5\n",
      "12.5\n",
      "25\n",
      "2\n"
     ]
    }
   ],
   "source": [
    "x = 5\n",
    "y = 2.5\n",
    "print(x + y)\n",
    "print(y-x)\n",
    "print(x*y)\n",
    "print(x**2)\n",
    "print(x//2)"
   ]
  },
  {
   "cell_type": "markdown",
   "metadata": {},
   "source": [
    "### Task 2: Lists\n",
    "- **Problem**:\n",
    "  1. Create a list `my_list = [1, 2, 3, 4, 5]`.\n",
    "  2. Replace the third element with `\"hello\"`.\n",
    "  3. Add the element `\"world\"` to the end of the list.\n",
    "  4. Remove the first element from the list.\n",
    "  5. Print the final list."
   ]
  },
  {
   "cell_type": "code",
   "execution_count": 17,
   "metadata": {},
   "outputs": [
    {
     "name": "stdout",
     "output_type": "stream",
     "text": [
      "[2, 'hello', 4, 5, 'world']\n"
     ]
    }
   ],
   "source": [
    "NPECON6930_list = [1, 2, 3, 4, 5]\n",
    "NPECON6930_list[2] = \"hello\"\n",
    "NPECON6930_list.append(\"world\")\n",
    "NPECON6930_list.pop(0)\n",
    "print(NPECON6930_list)"
   ]
  },
  {
   "cell_type": "markdown",
   "metadata": {},
   "source": [
    "### Task 3: Dictionaries\n",
    "- **Problem**:\n",
    "  1. Create a dictionary `student_scores` with the following key-value pairs:\n",
    "     - `'Alice': 85`\n",
    "     - `'Bob': 90`\n",
    "     - `'Charlie': 78`\n",
    "  2. Add a new student `'David'` with a score of `88`.\n",
    "  3. Update `'Alice'`'s score to `95`.\n",
    "  4. Delete `'Charlie'` from the dictionary.\n",
    "  5. Print the final dictionary."
   ]
  },
  {
   "cell_type": "code",
   "execution_count": 18,
   "metadata": {},
   "outputs": [
    {
     "name": "stdout",
     "output_type": "stream",
     "text": [
      "{'Alice': 85, 'Bob': 90, 'David': 88}\n"
     ]
    }
   ],
   "source": [
    "student_scores = {'Alice' : 85, 'Bob' : 90, 'Charlie' : 78}\n",
    "student_scores['David'] = 88\n",
    "del student_scores['Charlie']\n",
    "print(student_scores)"
   ]
  },
  {
   "cell_type": "markdown",
   "metadata": {},
   "source": [
    "### Task 4: Functions\n",
    "- **Problem**:\n",
    "  1. Define a function `calculate_area` that calculates the area of a rectangle. The function should take two arguments: `width` and `height`.\n",
    "  2. Call the function with `width = 5` and `height = 10`, and print the result."
   ]
  },
  {
   "cell_type": "code",
   "execution_count": 19,
   "metadata": {},
   "outputs": [
    {
     "name": "stdout",
     "output_type": "stream",
     "text": [
      "50\n"
     ]
    }
   ],
   "source": [
    "def calculate_area(width, height):\n",
    "    return width * height\n",
    "result = calculate_area(5, 10)\n",
    "print(result)"
   ]
  },
  {
   "cell_type": "markdown",
   "metadata": {},
   "source": [
    "### Task 5: Classes and Inheritance\n",
    "- **Problem**:\n",
    "  1. Create a class `Animal` with the following methods:\n",
    "     - `__init__(self, name)`: Initializes the name of the animal.\n",
    "     - `speak(self)`: Prints `\"The animal speaks\"`.\n",
    "  2. Create a subclass `Dog` that inherits from `Animal` and overrides the `speak` method to print `\"Woof! Woof!\"`.\n",
    "  3. Create an instance of `Dog` with the name `\"Buddy\"` and call its `speak` method.\n"
   ]
  },
  {
   "cell_type": "code",
   "execution_count": 20,
   "metadata": {},
   "outputs": [
    {
     "name": "stdout",
     "output_type": "stream",
     "text": [
      "The animal speaks\n",
      "Woof! Woof!\n"
     ]
    }
   ],
   "source": [
    "class Animal:\n",
    "    def __init__(self, name):\n",
    "        self.name = name\n",
    "    \n",
    "    def speak(self):\n",
    "        print(f\"The animal speaks\")\n",
    "\n",
    "class Dog(Animal):\n",
    "    def speak(self):\n",
    "        super().speak()\n",
    "        print('Woof! Woof!')\n",
    "\n",
    "    def display_info(self):\n",
    "        super().display_info()\n",
    "        print(f\"The animal Speaks\")\n",
    "\n",
    "Dog = Dog(\"Buddy\")\n",
    "Dog.speak()"
   ]
  },
  {
   "cell_type": "markdown",
   "metadata": {},
   "source": [
    "### Task 6: LaTeX Report\n",
    "- **Problem**:\n",
    "  1. Write a simple LaTeX document called `ps1.tex`.\n",
    "  2. Include the following sections:\n",
    "     - **Introduction**: Briefly describe the assignment.\n",
    "     - **Python Code**: Insert your Python code into the LaTeX document using the `verbatim` or `lstlisting` environment.\n",
    "     - **Mathematical Explanation**: Use LaTeX to explain any mathematical operations you performed in the Python tasks. For example, explain the formula for calculating the area of a rectangle.\n",
    "     - **Conclusion**: Summarize what you learned in this assignment.\n",
    "\n",
    "- **Example LaTeX Structure**:\n",
    "  ```latex\n",
    "  \\documentclass{article}\n",
    "  \\usepackage{amsmath}\n",
    "  \\usepackage{listings}\n",
    "\n",
    "  \\title{Homework Assignment: Python and LaTeX Practice}\n",
    "  \\author{Your Name}\n",
    "  \\date{\\today}\n",
    "\n",
    "  \\begin{document}\n",
    "\n",
    "  \\maketitle\n",
    "\n",
    "  \\section{Introduction}\n",
    "  This report covers the solutions to the Python tasks and the associated mathematical explanations.\n",
    "\n",
    "  \\section{Python Code}\n",
    "  Below is the Python code for the assignment:\n",
    "\n",
    "  \\begin{lstlisting}[language=Python]\n",
    "  def calculate_area(width, height):\n",
    "      return width * height\n",
    "  print(calculate_area(5, 10))\n",
    "  \\end{lstlisting}\n",
    "\n",
    "  \\section{Mathematical Explanation}\n",
    "  The formula for calculating the area of a rectangle is given by:\n",
    "  \\[\n",
    "  A = \\text{width} \\times \\text{height}\n",
    "  \\]\n",
    "  where \\( A \\) is the area, and the width and height are the dimensions of the rectangle.\n",
    "\n",
    "  \\section{Conclusion}\n",
    "  This assignment helped me practice basic Python and LaTeX concepts.\n",
    "\n",
    "  \\end{document}"
   ]
  }
 ],
 "metadata": {
  "kernelspec": {
   "display_name": "Python 3",
   "language": "python",
   "name": "python3"
  },
  "language_info": {
   "codemirror_mode": {
    "name": "ipython",
    "version": 3
   },
   "file_extension": ".py",
   "mimetype": "text/x-python",
   "name": "python",
   "nbconvert_exporter": "python",
   "pygments_lexer": "ipython3",
   "version": "3.12.1"
  }
 },
 "nbformat": 4,
 "nbformat_minor": 2
}
